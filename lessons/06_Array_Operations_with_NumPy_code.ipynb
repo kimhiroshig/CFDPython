{
 "cells": [
  {
   "cell_type": "code",
   "execution_count": 3,
   "metadata": {},
   "outputs": [],
   "source": [
    "import numpy"
   ]
  },
  {
   "cell_type": "code",
   "execution_count": 4,
   "metadata": {},
   "outputs": [
    {
     "name": "stdout",
     "output_type": "stream",
     "text": [
      "1\n",
      "1\n",
      "1\n",
      "1\n",
      "1\n"
     ]
    }
   ],
   "source": [
    "u = numpy.array((0,1,2,3,4,5))\n",
    "\n",
    "for i in range(1,len(u)):\n",
    "    print(u[i] - u[i-1])"
   ]
  },
  {
   "cell_type": "code",
   "execution_count": 5,
   "metadata": {},
   "outputs": [
    {
     "data": {
      "text/plain": [
       "array([1, 1, 1, 1, 1])"
      ]
     },
     "execution_count": 5,
     "metadata": {},
     "output_type": "execute_result"
    }
   ],
   "source": [
    "u[1:] - u[0:-1]"
   ]
  },
  {
   "cell_type": "code",
   "execution_count": 6,
   "metadata": {},
   "outputs": [],
   "source": [
    "nx = 81\n",
    "ny = 81\n",
    "nt = 100\n",
    "c = 1\n",
    "dx = 2 / (nx-1)\n",
    "dy = 2 / (ny-1)\n",
    "sigma = .2\n",
    "dt = sigma * dx\n",
    "\n",
    "x = numpy.linspace(0,2,nx)\n",
    "y = numpy.linspace(0,2,ny)\n",
    "\n",
    "u = numpy.ones((ny,nx))\n",
    "un = numpy.ones((ny,nx))\n",
    "\n",
    "# Assigne initial conditions\n",
    "u[int(.5 / dy): int(1/dy + 1), int(.5 / dx):int(1 / dx + 1)] = 2"
   ]
  },
  {
   "cell_type": "code",
   "execution_count": 7,
   "metadata": {},
   "outputs": [
    {
     "name": "stdout",
     "output_type": "stream",
     "text": [
      "4.69 s ± 461 ms per loop (mean ± std. dev. of 7 runs, 1 loop each)\n"
     ]
    }
   ],
   "source": [
    "%%timeit\n",
    "u = numpy.ones((ny,nx))\n",
    "u[int(.5 / dy): int(1/dy + 1), int(.5 / dx):int(1 / dx + 1)] = 2\n",
    "\n",
    "for n in range(nt + 1):\n",
    "    un = u.copy()\n",
    "    row, col = u.shape\n",
    "    for j in range(1, row):\n",
    "        for i in range(1,col):\n",
    "            u[j,i] = (un[j,i] - (c * dt / dx * \n",
    "                                (un[j,i] - un[j,i-1])) - \n",
    "                                (c * dt / dy * \n",
    "                                (un[j,i] - un[j-1,i])))\n",
    "            u[0 , :] = 1\n",
    "            u[-1, :] = 1\n",
    "            u[: , 0] = 1\n",
    "            u[: ,-1] = 1"
   ]
  },
  {
   "cell_type": "code",
   "execution_count": 8,
   "metadata": {},
   "outputs": [
    {
     "name": "stdout",
     "output_type": "stream",
     "text": [
      "5.71 ms ± 1.22 ms per loop (mean ± std. dev. of 7 runs, 100 loops each)\n"
     ]
    }
   ],
   "source": [
    "%%timeit\n",
    "u = numpy.ones((ny,nx))\n",
    "u[int(.5 / dy): int(1/dy + 1), int(.5 / dx):int(1 / dx + 1)] = 2\n",
    "\n",
    "for n in range(nt+1):\n",
    "    un = u.copy()\n",
    "    u[1:,1:] = (un[1:,1:] - (c * dt / dx * (un[1:,1:] - un[1:,0:-1])) - \n",
    "                            (c * dt / dy * (un[1:,1:] - un[0:-1,1:])))\n",
    "    u[0 , :] = 1\n",
    "    u[-1, :] = 1\n",
    "    u[: , 0] = 1\n",
    "    u[: ,-1] = 1"
   ]
  }
 ],
 "metadata": {
  "kernelspec": {
   "display_name": "Python 3.8.11 ('toolab')",
   "language": "python",
   "name": "python3"
  },
  "language_info": {
   "codemirror_mode": {
    "name": "ipython",
    "version": 3
   },
   "file_extension": ".py",
   "mimetype": "text/x-python",
   "name": "python",
   "nbconvert_exporter": "python",
   "pygments_lexer": "ipython3",
   "version": "3.8.11"
  },
  "orig_nbformat": 4,
  "vscode": {
   "interpreter": {
    "hash": "a309c794ff770fe898db1e2c8badfb77581d49643d2ee7639c912a687ea86464"
   }
  }
 },
 "nbformat": 4,
 "nbformat_minor": 2
}
